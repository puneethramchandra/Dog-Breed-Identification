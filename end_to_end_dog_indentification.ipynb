{
  "nbformat": 4,
  "nbformat_minor": 0,
  "metadata": {
    "colab": {
      "name": "end-to-end-dog-indentification.ipynb",
      "provenance": []
    },
    "kernelspec": {
      "name": "python3",
      "display_name": "Python 3"
    }
  },
  "cells": [
    {
      "cell_type": "markdown",
      "metadata": {
        "id": "ajNSh5UnChfW",
        "colab_type": "text"
      },
      "source": [
        "# End-to-end Multi-class Dog Breed Classification\n",
        "\n",
        "This notebook builds an end-to-end multi-class image classifier using TensorFlow 2.0 and TensorFlow Hub.\n",
        "\n",
        "## 1.Problem\n",
        "Identifying the breed of a dog given an image of a dog.\n",
        "\n",
        "Given a photo of a dog, we want to know breed of the dog.\n",
        "\n",
        "## 2. Data\n",
        "\n",
        "The data we're using is from Kaggle's dog breeed identification competition.\n",
        "\n",
        "https://www.kaggle.com/c/dog-breed-identification/data\n",
        "\n",
        "## 3. Evaluation\n",
        "\n",
        "The evaluation is a file with prediction probabilites for each dog breed for each test image.\n",
        "\n",
        "https://www.kaggle.com/c/dog-breed-identification/overview/evaluation\n",
        "\n",
        "## 4. Features\n",
        "\n",
        "Some information about the data:\n",
        "* We're dealing with images (unstructured data), so we are using deep learning/transfer learning.\n",
        "\n",
        "* There are 120 breeds of dogs (this means there are 120 different classes).\n",
        "\n",
        "* There are around 10000+ images in the training set (these images have labels).\n",
        "\n",
        "* There are around 10000+ images in the test set( labels of these images are to be predicted).\n"
      ]
    },
    {
      "cell_type": "markdown",
      "metadata": {
        "id": "mZRGeLtSLcch",
        "colab_type": "text"
      },
      "source": [
        "###  Get our workspace ready"
      ]
    },
    {
      "cell_type": "code",
      "metadata": {
        "id": "hKBBs0UILi54",
        "colab_type": "code",
        "colab": {
          "base_uri": "https://localhost:8080/",
          "height": 34
        },
        "outputId": "dbf6f43b-4931-406d-bf93-b4a7ab3d16a1"
      },
      "source": [
        "# Import Tensorflow into Colab\n",
        "\n",
        "import tensorflow as tf\n",
        "\n",
        "print(\"TF version\",tf.__version__)"
      ],
      "execution_count": 7,
      "outputs": [
        {
          "output_type": "stream",
          "text": [
            "TF version 2.3.0\n"
          ],
          "name": "stdout"
        }
      ]
    },
    {
      "cell_type": "code",
      "metadata": {
        "id": "38z8L5SCL5S4",
        "colab_type": "code",
        "colab": {}
      },
      "source": [
        ""
      ],
      "execution_count": null,
      "outputs": []
    }
  ]
}