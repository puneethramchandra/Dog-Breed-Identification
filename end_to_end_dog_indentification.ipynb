{
  "nbformat": 4,
  "nbformat_minor": 0,
  "metadata": {
    "colab": {
      "name": "end-to-end-dog-indentification.ipynb",
      "provenance": []
    },
    "kernelspec": {
      "name": "python3",
      "display_name": "Python 3"
    },
    "accelerator": "GPU"
  },
  "cells": [
    {
      "cell_type": "markdown",
      "metadata": {
        "id": "ajNSh5UnChfW",
        "colab_type": "text"
      },
      "source": [
        "# End-to-end Multi-class Dog Breed Classification\n",
        "\n",
        "This notebook builds an end-to-end multi-class image classifier using TensorFlow 2.0 and TensorFlow Hub.\n",
        "\n",
        "## 1.Problem\n",
        "Identifying the breed of a dog given an image of a dog.\n",
        "\n",
        "Given a photo of a dog, we want to know breed of the dog.\n",
        "\n",
        "## 2. Data\n",
        "\n",
        "The data we're using is from Kaggle's dog breeed identification competition.\n",
        "\n",
        "https://www.kaggle.com/c/dog-breed-identification/data\n",
        "\n",
        "## 3. Evaluation\n",
        "\n",
        "The evaluation is a file with prediction probabilites for each dog breed for each test image.\n",
        "\n",
        "https://www.kaggle.com/c/dog-breed-identification/overview/evaluation\n",
        "\n",
        "## 4. Features\n",
        "\n",
        "Some information about the data:\n",
        "* We're dealing with images (unstructured data), so we are using deep learning/transfer learning.\n",
        "\n",
        "* There are 120 breeds of dogs (this means there are 120 different classes).\n",
        "\n",
        "* There are around 10000+ images in the training set (these images have labels).\n",
        "\n",
        "* There are around 10000+ images in the test set( labels of these images are to be predicted).\n"
      ]
    },
    {
      "cell_type": "markdown",
      "metadata": {
        "id": "mZRGeLtSLcch",
        "colab_type": "text"
      },
      "source": [
        "###  Get our workspace ready\n",
        "\n",
        "* Import TensorFlow\n",
        "* Import TensorFlow Hub\n",
        "\n"
      ]
    },
    {
      "cell_type": "code",
      "metadata": {
        "id": "hKBBs0UILi54",
        "colab_type": "code",
        "colab": {
          "base_uri": "https://localhost:8080/",
          "height": 67
        },
        "outputId": "e7557d62-bc79-48af-be72-02990075c7a3"
      },
      "source": [
        "# Import necessary tools\n",
        "\n",
        "import tensorflow as tf\n",
        "import tensorflow_hub as hub\n",
        "\n",
        "print(\"TF version\",tf.__version__)\n",
        "print('TF hub version',hub.__version__)\n",
        "\n",
        "# Check for GPU availabality\n",
        "print ('GPU','available' if tf.config.list_physical_devices('GPU')else 'not available')"
      ],
      "execution_count": 1,
      "outputs": [
        {
          "output_type": "stream",
          "text": [
            "TF version 2.3.0\n",
            "TF hub version 0.9.0\n",
            "GPU available\n"
          ],
          "name": "stdout"
        }
      ]
    },
    {
      "cell_type": "code",
      "metadata": {
        "id": "38z8L5SCL5S4",
        "colab_type": "code",
        "colab": {}
      },
      "source": [
        ""
      ],
      "execution_count": null,
      "outputs": []
    }
  ]
}